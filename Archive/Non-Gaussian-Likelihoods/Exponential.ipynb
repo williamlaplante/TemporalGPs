{
 "cells": [
  {
   "cell_type": "code",
   "execution_count": 2,
   "metadata": {},
   "outputs": [],
   "source": [
    "import numpy as np\n",
    "import matplotlib.pyplot as plt"
   ]
  },
  {
   "cell_type": "code",
   "execution_count": 3,
   "metadata": {},
   "outputs": [],
   "source": [
    "def eta(lamb):\n",
    "    \"\"\"computes eta(lamb) = -lamb\"\"\"\n",
    "    return -lamb\n",
    "\n",
    "def eta_inv(eta):\n",
    "    \"\"\"recovers lamb\"\"\"\n",
    "    return -eta\n",
    "\n",
    "def eta_inv_jac(eta):\n",
    "    \"\"\"compute the jacobian of eta^{-1}(eta)\"\"\"\n",
    "    return -1\n"
   ]
  },
  {
   "cell_type": "code",
   "execution_count": 4,
   "metadata": {},
   "outputs": [],
   "source": [
    "#Class computing the posterior of \\eta(\\theta) given observations\n",
    "\n",
    "class Exponential():\n",
    "    def __init__(self, eta_prior_mean, eta_prior_cov):\n",
    "        self.eta_prior_mean = eta_prior_mean #prior on eta\n",
    "        self.eta_prior_cov = eta_prior_cov #prior on cov of eta\n",
    "        self.num_params = 1\n",
    "\n",
    "        self.dr_ = lambda x : 1.\n",
    "        self.db_ = lambda x : 0.\n",
    "        self.ddr_ = lambda x : 0.\n",
    "\n",
    "        self.m = lambda x : x\n",
    "        self.dmmdr = lambda x : 2 * x\n",
    "\n",
    "        return\n",
    "    \n",
    "    def posterior(self, data):\n",
    "        assert data.ndim == 1, \"Data must be 1-dimensional\"\n",
    "\n",
    "        Lambda = 0.\n",
    "        Nu = 0.\n",
    "\n",
    "        T = len(data)\n",
    "\n",
    "        for x in data:\n",
    "            Lambda += (1/T) * self.dr_(x) * self.m(x)**2 * self.dr_(x)\n",
    "            Nu += (2/T) * (self.dr_(x) * self.db_(x) + self.dmmdr(x))\n",
    "\n",
    "        eta_post_cov = ((self.eta_prior_cov)**(-1) + 2 * T * Lambda)**(-1)\n",
    "\n",
    "        eta_post_mean = eta_post_cov * ((self.eta_prior_cov)**(-1) * self.eta_prior_mean - T * Nu)\n",
    "\n",
    "\n",
    "        return eta_post_mean, eta_post_cov"
   ]
  },
  {
   "cell_type": "code",
   "execution_count": 27,
   "metadata": {},
   "outputs": [
    {
     "name": "stdout",
     "output_type": "stream",
     "text": [
      "Frequentist estimate  :  1.3900692067040228\n",
      "theta from Exp-Normal :  1.381123753328021 +- 0.013855411118678045\n",
      "Analytical Formula    :  1.3811237533280203 +- 0.01385541111867805\n",
      "theta (true)          :  1.4\n"
     ]
    }
   ],
   "source": [
    "true_lamb = 1.4\n",
    "size = 10000\n",
    "\n",
    "data = np.random.exponential(scale=1/true_lamb, size=size)\n",
    "\n",
    "#Setting the prior on theta = lambda\n",
    "theta_prior_mean = 2.\n",
    "\n",
    "#converting the prior mu and sigma2 to natural parameters\n",
    "eta_prior_mean = eta(theta_prior_mean)\n",
    "eta_prior_cov = 1.0\n",
    "\n",
    "#instantiating the LogNormal class and obtaining the posterior mean and covariance for the r.v. \\eta | data \n",
    "exp_wrong = Exponential(eta_prior_mean=eta_prior_mean, eta_prior_cov=eta_prior_cov)\n",
    "eta_post_mean, eta_post_cov = exp_wrong.posterior(data=data)\n",
    "\n",
    "#converting back from eta to mu, sigma2, and obtaining the mean and covariance for mu and sigma2\n",
    "theta_post_mean = eta_inv(eta_post_mean)\n",
    "theta_post_cov = eta_inv_jac(eta_post_mean) * eta_post_cov * eta_inv_jac(eta_post_mean)\n",
    "\n",
    "def theta_post_mean_formula(theta_prior_mean, theta_prior_cov, data):\n",
    "    return (theta_prior_mean / theta_prior_cov + 4 * data.sum()) / (1 / theta_prior_cov + 2 * (data**2).sum())\n",
    "\n",
    "def theta_post_cov_formula(theta_prior_cov, data):\n",
    "    return  1 / (1/theta_prior_cov + 2 * (data**2).sum())\n",
    "\n",
    "\n",
    "print(\"Frequentist estimate  : \", (1/data.mean()))\n",
    "print(\"theta from Exp-Normal : \", theta_post_mean, \"+-\", 2*np.sqrt(theta_post_cov))\n",
    "print(\"Analytical Formula    : \", theta_post_mean_formula(theta_prior_mean, eta_prior_cov, data), \"+-\", 2 * np.sqrt(theta_post_cov_formula(eta_prior_cov, data)))\n",
    "print(\"theta (true)          : \", true_lamb)"
   ]
  },
  {
   "cell_type": "code",
   "execution_count": 45,
   "metadata": {},
   "outputs": [
    {
     "data": {
      "text/plain": [
       "<matplotlib.legend.Legend at 0x124c16cc0>"
      ]
     },
     "execution_count": 45,
     "metadata": {},
     "output_type": "execute_result"
    },
    {
     "data": {
      "image/png": "[encoded data removed]",
      "text/plain": [
       "<Figure size 800x800 with 1 Axes>"
      ]
     },
     "metadata": {},
     "output_type": "display_data"
    }
   ],
   "source": [
    "theta_prior_mean = 1.4\n",
    "theta_prior_cov = 0.001\n",
    "size=10000\n",
    "\n",
    "theta_post_mean_estimates = [] \n",
    "theta_freq_mean_estimates = []\n",
    "\n",
    "for i in range(5000):\n",
    "    sample = np.random.exponential(scale=1/true_lamb, size=size)\n",
    "    theta_post_mean_estimates.append(theta_post_mean_formula(theta_prior_mean, theta_prior_cov, sample))\n",
    "    theta_freq_mean_estimates.append(1/sample.mean())\n",
    "\n",
    "\n",
    "plt.figure(figsize=(8,8))\n",
    "plt.hist(theta_post_mean_estimates, bins=50, density=True, alpha=0.2, color='blue', label=\"Score-Matching Estimates\")\n",
    "plt.hist(theta_freq_mean_estimates, bins=50, density=True, alpha=0.2, color='orange', label=\"Frequentist Estimates\")\n",
    "ymin, ymax = plt.ylim()\n",
    "plt.vlines(true_lamb, ymin, ymax, color='black', linewidth=0.5, label=\"True Mean\")\n",
    "plt.ylim(ymin, ymax)\n",
    "plt.legend()"
   ]
  },
  {
   "cell_type": "code",
   "execution_count": null,
   "metadata": {},
   "outputs": [],
   "source": []
  },
  {
   "cell_type": "code",
   "execution_count": null,
   "metadata": {},
   "outputs": [],
   "source": []
  }
 ],
 "metadata": {
  "kernelspec": {
   "display_name": "TemporalGPs",
   "language": "python",
   "name": "python3"
  },
  "language_info": {
   "codemirror_mode": {
    "name": "ipython",
    "version": 3
   },
   "file_extension": ".py",
   "mimetype": "text/x-python",
   "name": "python",
   "nbconvert_exporter": "python",
   "pygments_lexer": "ipython3",
   "version": "3.12.3"
  }
 },
 "nbformat": 4,
 "nbformat_minor": 2
}
