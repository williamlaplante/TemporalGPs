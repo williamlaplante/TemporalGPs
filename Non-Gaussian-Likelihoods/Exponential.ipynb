{
 "cells": [
  {
   "cell_type": "code",
   "execution_count": 1,
   "metadata": {},
   "outputs": [],
   "source": [
    "import numpy as np\n",
    "import matplotlib.pyplot as plt"
   ]
  },
  {
   "cell_type": "code",
   "execution_count": 18,
   "metadata": {},
   "outputs": [],
   "source": [
    "def eta(lamb):\n",
    "    \"\"\"computes eta(lamb) = -lamb\"\"\"\n",
    "    return -lamb\n",
    "\n",
    "def eta_inv(eta):\n",
    "    \"\"\"recovers lamb\"\"\"\n",
    "    return -eta\n",
    "\n",
    "def eta_inv_jac(eta):\n",
    "    \"\"\"compute the jacobian of eta^{-1}(eta)\"\"\"\n",
    "    return -1\n"
   ]
  },
  {
   "cell_type": "code",
   "execution_count": 46,
   "metadata": {},
   "outputs": [],
   "source": [
    "#Class computing the posterior of \\eta(\\theta) given observations\n",
    "\n",
    "class Exponential():\n",
    "    def __init__(self, eta_prior_mean, eta_prior_cov):\n",
    "        self.eta_prior_mean = eta_prior_mean #prior on eta\n",
    "        self.eta_prior_cov = eta_prior_cov #prior on cov of eta\n",
    "        self.num_params = 1\n",
    "\n",
    "        self.dr_ = lambda x : 1.\n",
    "        self.db_ = lambda x : 0.\n",
    "        self.ddr_ = lambda x : 0.\n",
    "\n",
    "        self.m = lambda x : x\n",
    "        self.dmmdr = lambda x : 2 * x\n",
    "\n",
    "        return\n",
    "    \n",
    "    def posterior(self, data):\n",
    "        assert data.ndim == 1, \"Data must be 1-dimensional\"\n",
    "\n",
    "        Lambda = 0.\n",
    "        Nu = 0.\n",
    "\n",
    "        T = len(data)\n",
    "\n",
    "        for x in data:\n",
    "            Lambda += (1/T) * self.dr_(x) * self.m(x)**2 * self.dr_(x)\n",
    "            Nu += (2/T) * (self.dr_(x) * self.db_(x) + self.dmmdr(x))\n",
    "\n",
    "        eta_post_cov = ((self.eta_prior_cov)**(-1) + 2 * T * Lambda)**(-1)\n",
    "\n",
    "        eta_post_mean = eta_post_cov * ((self.eta_prior_cov)**(-1) * self.eta_prior_mean - T * Nu)\n",
    "\n",
    "\n",
    "        return eta_post_mean, eta_post_cov"
   ]
  },
  {
   "cell_type": "code",
   "execution_count": 103,
   "metadata": {},
   "outputs": [
    {
     "name": "stdout",
     "output_type": "stream",
     "text": [
      "Frequentist estimate  :  1.3824690974395373\n",
      "theta from Exp-Normal :  1.3976566411501072 +- 0.013899940873723857\n",
      "theta (true)          :  1.4\n"
     ]
    }
   ],
   "source": [
    "true_lamb = 1.4\n",
    "size = 10000\n",
    "\n",
    "data = np.random.exponential(scale=1/true_lamb, size=size)\n",
    "\n",
    "#Setting the prior on theta = lambda\n",
    "theta_prior_mean = 2.\n",
    "\n",
    "#converting the prior mu and sigma2 to natural parameters\n",
    "eta_prior_mean = eta(theta_prior_mean)\n",
    "eta_prior_cov = 1.0\n",
    "\n",
    "#instantiating the LogNormal class and obtaining the posterior mean and covariance for the r.v. \\eta | data \n",
    "exp_wrong = Exponential(eta_prior_mean=eta_prior_mean, eta_prior_cov=eta_prior_cov)\n",
    "eta_post_mean, eta_post_cov = exp_wrong.posterior(data=data)\n",
    "\n",
    "#converting back from eta to mu, sigma2, and obtaining the mean and covariance for mu and sigma2\n",
    "theta_post_mean = eta_inv(eta_post_mean)\n",
    "theta_post_cov = eta_inv_jac(eta_post_mean) * eta_post_cov * eta_inv_jac(eta_post_mean)\n",
    "\n",
    "print(\"Frequentist estimate  : \", (1/data.mean()))\n",
    "print(\"theta from Exp-Normal : \", theta_post_mean, \"+-\", 2*np.sqrt(theta_post_cov))\n",
    "print(\"theta (true)          : \", true_lamb)\n"
   ]
  },
  {
   "cell_type": "code",
   "execution_count": null,
   "metadata": {},
   "outputs": [],
   "source": []
  }
 ],
 "metadata": {
  "kernelspec": {
   "display_name": "TemporalGPs",
   "language": "python",
   "name": "python3"
  },
  "language_info": {
   "codemirror_mode": {
    "name": "ipython",
    "version": 3
   },
   "file_extension": ".py",
   "mimetype": "text/x-python",
   "name": "python",
   "nbconvert_exporter": "python",
   "pygments_lexer": "ipython3",
   "version": "3.12.3"
  }
 },
 "nbformat": 4,
 "nbformat_minor": 2
}
